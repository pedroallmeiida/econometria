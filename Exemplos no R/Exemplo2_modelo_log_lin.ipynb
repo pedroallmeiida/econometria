{
  "cells": [
    {
      "cell_type": "markdown",
      "metadata": {
        "id": "i4ZS_CUhiK5v"
      },
      "source": [
        "# Modelo Log-Lin\n",
        "\n",
        "## Exemplo 2\n",
        "\n",
        "Suponha que queiramos medir taxa de crescimento de variáveis de despesas\n",
        "\n",
        "**Significado das Variáveis:**\n",
        "\n",
        "- DESPSERV: Despesas de serviços\n",
        "- DESPDUR: Despesas com bens duráveis\n",
        "- DESPNAODUR: Despesas não duráveis\n",
        "- DESPTCP: Despesas totais de cosumo pessoal"
      ]
    },
    {
      "cell_type": "code",
      "execution_count": 2,
      "metadata": {
        "id": "txztwgzUiK5x"
      },
      "outputs": [],
      "source": [
        "# Bibliotecas R\n",
        "library(ggplot2)\n",
        "library(readr)\n"
      ]
    },
    {
      "cell_type": "markdown",
      "metadata": {
        "id": "bb_x35dLiK5z"
      },
      "source": [
        "Leitura do dataset"
      ]
    },
    {
      "cell_type": "code",
      "execution_count": 7,
      "metadata": {
        "id": "i09K04kgiK5z",
        "outputId": "96c62dd3-6c8f-4b52-c258-6cd858754c04",
        "colab": {
          "base_uri": "https://localhost:8080/",
          "height": 568
        }
      },
      "outputs": [
        {
          "output_type": "display_data",
          "data": {
            "text/html": [
              "<table class=\"dataframe\">\n",
              "<caption>A data.frame: 15 × 5</caption>\n",
              "<thead>\n",
              "\t<tr><th scope=col>DESPSERV</th><th scope=col>DESPDUR</th><th scope=col>DESPNAODUR</th><th scope=col>DESPTCP</th><th scope=col>tempo</th></tr>\n",
              "\t<tr><th scope=col>&lt;dbl&gt;</th><th scope=col>&lt;dbl&gt;</th><th scope=col>&lt;dbl&gt;</th><th scope=col>&lt;dbl&gt;</th><th scope=col>&lt;int&gt;</th></tr>\n",
              "</thead>\n",
              "<tbody>\n",
              "\t<tr><td>4143.3</td><td> 971.4</td><td>2072.5</td><td>7184.9</td><td> 1</td></tr>\n",
              "\t<tr><td>4161.3</td><td>1009.8</td><td>2084.2</td><td>7249.3</td><td> 2</td></tr>\n",
              "\t<tr><td>4190.7</td><td>1049.6</td><td>2123.0</td><td>7352.9</td><td> 3</td></tr>\n",
              "\t<tr><td>4220.2</td><td>1051.4</td><td>2132.5</td><td>7394.3</td><td> 4</td></tr>\n",
              "\t<tr><td>4268.2</td><td>1067.0</td><td>2155.3</td><td>7479.8</td><td> 5</td></tr>\n",
              "\t<tr><td>4308.4</td><td>1071.4</td><td>2164.3</td><td>7534.4</td><td> 6</td></tr>\n",
              "\t<tr><td>4341.5</td><td>1093.9</td><td>2184.0</td><td>7607.1</td><td> 7</td></tr>\n",
              "\t<tr><td>4377.4</td><td>1110.3</td><td>2213.1</td><td>7687.1</td><td> 8</td></tr>\n",
              "\t<tr><td>4395.3</td><td>1116.8</td><td>2241.5</td><td>7739.4</td><td> 9</td></tr>\n",
              "\t<tr><td>4420.0</td><td>1150.8</td><td>2268.4</td><td>7819.8</td><td>10</td></tr>\n",
              "\t<tr><td>4454.5</td><td>1175.9</td><td>2287.6</td><td>7895.3</td><td>11</td></tr>\n",
              "\t<tr><td>4476.7</td><td>1137.9</td><td>2309.6</td><td>7910.2</td><td>12</td></tr>\n",
              "\t<tr><td>4494.5</td><td>1190.5</td><td>2342.8</td><td>8003.8</td><td>13</td></tr>\n",
              "\t<tr><td>4535.4</td><td>1190.3</td><td>2351.1</td><td>8055.0</td><td>14</td></tr>\n",
              "\t<tr><td>4566.6</td><td>1208.8</td><td>2360.1</td><td>8111.2</td><td>15</td></tr>\n",
              "</tbody>\n",
              "</table>\n"
            ],
            "text/markdown": "\nA data.frame: 15 × 5\n\n| DESPSERV &lt;dbl&gt; | DESPDUR &lt;dbl&gt; | DESPNAODUR &lt;dbl&gt; | DESPTCP &lt;dbl&gt; | tempo &lt;int&gt; |\n|---|---|---|---|---|\n| 4143.3 |  971.4 | 2072.5 | 7184.9 |  1 |\n| 4161.3 | 1009.8 | 2084.2 | 7249.3 |  2 |\n| 4190.7 | 1049.6 | 2123.0 | 7352.9 |  3 |\n| 4220.2 | 1051.4 | 2132.5 | 7394.3 |  4 |\n| 4268.2 | 1067.0 | 2155.3 | 7479.8 |  5 |\n| 4308.4 | 1071.4 | 2164.3 | 7534.4 |  6 |\n| 4341.5 | 1093.9 | 2184.0 | 7607.1 |  7 |\n| 4377.4 | 1110.3 | 2213.1 | 7687.1 |  8 |\n| 4395.3 | 1116.8 | 2241.5 | 7739.4 |  9 |\n| 4420.0 | 1150.8 | 2268.4 | 7819.8 | 10 |\n| 4454.5 | 1175.9 | 2287.6 | 7895.3 | 11 |\n| 4476.7 | 1137.9 | 2309.6 | 7910.2 | 12 |\n| 4494.5 | 1190.5 | 2342.8 | 8003.8 | 13 |\n| 4535.4 | 1190.3 | 2351.1 | 8055.0 | 14 |\n| 4566.6 | 1208.8 | 2360.1 | 8111.2 | 15 |\n\n",
            "text/latex": "A data.frame: 15 × 5\n\\begin{tabular}{lllll}\n DESPSERV & DESPDUR & DESPNAODUR & DESPTCP & tempo\\\\\n <dbl> & <dbl> & <dbl> & <dbl> & <int>\\\\\n\\hline\n\t 4143.3 &  971.4 & 2072.5 & 7184.9 &  1\\\\\n\t 4161.3 & 1009.8 & 2084.2 & 7249.3 &  2\\\\\n\t 4190.7 & 1049.6 & 2123.0 & 7352.9 &  3\\\\\n\t 4220.2 & 1051.4 & 2132.5 & 7394.3 &  4\\\\\n\t 4268.2 & 1067.0 & 2155.3 & 7479.8 &  5\\\\\n\t 4308.4 & 1071.4 & 2164.3 & 7534.4 &  6\\\\\n\t 4341.5 & 1093.9 & 2184.0 & 7607.1 &  7\\\\\n\t 4377.4 & 1110.3 & 2213.1 & 7687.1 &  8\\\\\n\t 4395.3 & 1116.8 & 2241.5 & 7739.4 &  9\\\\\n\t 4420.0 & 1150.8 & 2268.4 & 7819.8 & 10\\\\\n\t 4454.5 & 1175.9 & 2287.6 & 7895.3 & 11\\\\\n\t 4476.7 & 1137.9 & 2309.6 & 7910.2 & 12\\\\\n\t 4494.5 & 1190.5 & 2342.8 & 8003.8 & 13\\\\\n\t 4535.4 & 1190.3 & 2351.1 & 8055.0 & 14\\\\\n\t 4566.6 & 1208.8 & 2360.1 & 8111.2 & 15\\\\\n\\end{tabular}\n",
            "text/plain": [
              "   DESPSERV DESPDUR DESPNAODUR DESPTCP tempo\n",
              "1  4143.3    971.4  2072.5     7184.9   1   \n",
              "2  4161.3   1009.8  2084.2     7249.3   2   \n",
              "3  4190.7   1049.6  2123.0     7352.9   3   \n",
              "4  4220.2   1051.4  2132.5     7394.3   4   \n",
              "5  4268.2   1067.0  2155.3     7479.8   5   \n",
              "6  4308.4   1071.4  2164.3     7534.4   6   \n",
              "7  4341.5   1093.9  2184.0     7607.1   7   \n",
              "8  4377.4   1110.3  2213.1     7687.1   8   \n",
              "9  4395.3   1116.8  2241.5     7739.4   9   \n",
              "10 4420.0   1150.8  2268.4     7819.8  10   \n",
              "11 4454.5   1175.9  2287.6     7895.3  11   \n",
              "12 4476.7   1137.9  2309.6     7910.2  12   \n",
              "13 4494.5   1190.5  2342.8     8003.8  13   \n",
              "14 4535.4   1190.3  2351.1     8055.0  14   \n",
              "15 4566.6   1208.8  2360.1     8111.2  15   "
            ]
          },
          "metadata": {}
        }
      ],
      "source": [
        "df = read.csv( \"https://raw.githubusercontent.com/pedroallmeiida/econometria/refs/heads/main/Dados/dados_exemplo_log_log.csv\" )\n",
        "df$tempo = 1:dim(df)[1]\n",
        "df"
      ]
    },
    {
      "cell_type": "markdown",
      "metadata": {
        "id": "izP66BdxiK50"
      },
      "source": [
        "###  Modelo Log-Lin para medir a taxa de crescimento das despesas duráveis"
      ]
    },
    {
      "cell_type": "code",
      "execution_count": 8,
      "metadata": {
        "id": "nbqTnooviK50",
        "outputId": "83454c30-1bae-45e4-c824-027be0c884f4",
        "colab": {
          "base_uri": "https://localhost:8080/",
          "height": 329
        }
      },
      "outputs": [
        {
          "output_type": "display_data",
          "data": {
            "text/plain": [
              "\n",
              "Call:\n",
              "lm(formula = log(DESPDUR) ~ tempo, data = df)\n",
              "\n",
              "Residuals:\n",
              "      Min        1Q    Median        3Q       Max \n",
              "-0.030241 -0.006495  0.004556  0.007281  0.020862 \n",
              "\n",
              "Coefficients:\n",
              "             Estimate Std. Error t value Pr(>|t|)    \n",
              "(Intercept) 6.8949842  0.0081607  844.90  < 2e-16 ***\n",
              "tempo       0.0139948  0.0008976   15.59 8.56e-10 ***\n",
              "---\n",
              "Signif. codes:  0 ‘***’ 0.001 ‘**’ 0.01 ‘*’ 0.05 ‘.’ 0.1 ‘ ’ 1\n",
              "\n",
              "Residual standard error: 0.01502 on 13 degrees of freedom\n",
              "Multiple R-squared:  0.9492,\tAdjusted R-squared:  0.9453 \n",
              "F-statistic: 243.1 on 1 and 13 DF,  p-value: 8.555e-10\n"
            ]
          },
          "metadata": {}
        }
      ],
      "source": [
        "lm_loglin <- lm( log(DESPDUR)~  tempo, data = df)\n",
        "summary(lm_loglin)"
      ]
    },
    {
      "cell_type": "markdown",
      "metadata": {
        "id": "yYBSZlCHiK50"
      },
      "source": [
        "**Intrepretação do modelo log-lin:**\n",
        "\n",
        "A Equação do modelo predito é dada por:\n",
        "\n",
        "$$\n",
        "\\widehat{\\ln DESPDUR}_t = 6.895 + 0.014 \\, tempo\n",
        "$$\n",
        "\n",
        "em que as estimativas para o intercepto e coeficiente de regressão são dados respectivamente por, $\\hat\\beta_0 = 6.895$ e $\\hat\\beta_1 = 0.014$.\n",
        "\n",
        "Interpretação: Em um período que vai do 1º trimestre de 2023 ao 3º trimestre de 2006, implica que as despesas com bens duráveis aumentaram a uma taxa trimestral de 1.4%\n",
        "\n"
      ]
    },
    {
      "cell_type": "code",
      "execution_count": null,
      "metadata": {
        "id": "ROKz7z26iK51"
      },
      "outputs": [],
      "source": [
        "#tbl_regression(lm_loglog, intercept = T)"
      ]
    },
    {
      "cell_type": "markdown",
      "metadata": {
        "id": "JefwWQpoiK51"
      },
      "source": [
        "###  Modelo Log log para medir a Elasticidade da variável DESPSERV com DESPTCP"
      ]
    },
    {
      "cell_type": "code",
      "execution_count": 9,
      "metadata": {
        "id": "uEPFiXZwiK51",
        "outputId": "40afa2f5-d05d-430a-f7d8-b818e306dac4",
        "colab": {
          "base_uri": "https://localhost:8080/",
          "height": 329
        }
      },
      "outputs": [
        {
          "output_type": "display_data",
          "data": {
            "text/plain": [
              "\n",
              "Call:\n",
              "lm(formula = log(DESPSERV) ~ tempo, data = df)\n",
              "\n",
              "Residuals:\n",
              "       Min         1Q     Median         3Q        Max \n",
              "-0.0037151 -0.0025297 -0.0004329  0.0018168  0.0051538 \n",
              "\n",
              "Coefficients:\n",
              "             Estimate Std. Error t value Pr(>|t|)    \n",
              "(Intercept) 8.3226271  0.0016047 5186.30  < 2e-16 ***\n",
              "tempo       0.0070537  0.0001765   39.97 5.42e-15 ***\n",
              "---\n",
              "Signif. codes:  0 ‘***’ 0.001 ‘**’ 0.01 ‘*’ 0.05 ‘.’ 0.1 ‘ ’ 1\n",
              "\n",
              "Residual standard error: 0.002953 on 13 degrees of freedom\n",
              "Multiple R-squared:  0.9919,\tAdjusted R-squared:  0.9913 \n",
              "F-statistic:  1597 on 1 and 13 DF,  p-value: 5.421e-15\n"
            ]
          },
          "metadata": {}
        }
      ],
      "source": [
        "lm_loglin <- lm( log(DESPSERV)~  tempo, data = df)\n",
        "summary(lm_loglin)"
      ]
    },
    {
      "cell_type": "markdown",
      "metadata": {
        "id": "Sh-4LcDQiK51"
      },
      "source": [
        "**Intrepretação do modelo log-lin:**\n",
        "\n",
        "A Equação do modelo predito é dada por:\n",
        "\n",
        "$$\n",
        "\\widehat{\\ln DESPDUR}_t = 8.32 + 0.007 \\, tempo\n",
        "$$\n",
        "\n",
        "em que as estimativas para o intercepto e coeficiente de regressão são dados respectivamente por, $\\hat\\beta_0 = 8.32$ e $\\hat\\beta_1 = 0.007$.\n",
        "\n",
        "Interpretação: Em um período que vai do 1º trimestre de 2023 ao 3º trimestre de 2006, implica que as despesas com bens duráveis aumentaram a uma taxa trimestral de 0.7%"
      ]
    },
    {
      "cell_type": "code",
      "source": [],
      "metadata": {
        "id": "r44jKgNcjotx"
      },
      "execution_count": null,
      "outputs": []
    }
  ],
  "metadata": {
    "language_info": {
      "name": "R"
    },
    "colab": {
      "provenance": []
    },
    "kernelspec": {
      "name": "ir",
      "display_name": "R"
    }
  },
  "nbformat": 4,
  "nbformat_minor": 0
}