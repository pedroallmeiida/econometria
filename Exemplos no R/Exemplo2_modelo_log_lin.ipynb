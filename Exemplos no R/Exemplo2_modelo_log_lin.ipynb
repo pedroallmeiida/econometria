{
 "cells": [
  {
   "cell_type": "markdown",
   "metadata": {},
   "source": [
    "# Modelo Log-Lin\n",
    "\n",
    "## Exemplo 2\n",
    "\n",
    "Suponha que queiramos medir taxa de crescimento de variáveis de despesas \n",
    "\n",
    "**Significado das Variáveis:** \n",
    "\n",
    "- DESPSERV: Despesas de serviços\n",
    "- DESPDUR: Despesas com bens duráveis\n",
    "- DESPNAODUR: Despesas não duráveis\n",
    "- DESPTCP: Despesas totais de cosumo pessoal"
   ]
  },
  {
   "cell_type": "code",
   "execution_count": 1,
   "metadata": {},
   "outputs": [
    {
     "name": "stdout",
     "output_type": "stream",
     "text": [
      "Use suppressPackageStartupMessages() to eliminate package startup messages\n"
     ]
    }
   ],
   "source": [
    "# Bibliotecas R \n",
    "library(ggplot2)\n",
    "library(readr)\n",
    "library(gtsummary) # VIsualizar os resultados dos modelos\n"
   ]
  },
  {
   "cell_type": "markdown",
   "metadata": {},
   "source": [
    "Leitura do dataset"
   ]
  },
  {
   "cell_type": "code",
   "execution_count": 5,
   "metadata": {},
   "outputs": [
    {
     "data": {
      "text/plain": [
       "   DESPSERV DESPDUR DESPNAODUR DESPTCP tempo\n",
       "1    4143.3   971.4     2072.5  7184.9     1\n",
       "2    4161.3  1009.8     2084.2  7249.3     2\n",
       "3    4190.7  1049.6     2123.0  7352.9     3\n",
       "4    4220.2  1051.4     2132.5  7394.3     4\n",
       "5    4268.2  1067.0     2155.3  7479.8     5\n",
       "6    4308.4  1071.4     2164.3  7534.4     6\n",
       "7    4341.5  1093.9     2184.0  7607.1     7\n",
       "8    4377.4  1110.3     2213.1  7687.1     8\n",
       "9    4395.3  1116.8     2241.5  7739.4     9\n",
       "10   4420.0  1150.8     2268.4  7819.8    10\n",
       "11   4454.5  1175.9     2287.6  7895.3    11\n",
       "12   4476.7  1137.9     2309.6  7910.2    12\n",
       "13   4494.5  1190.5     2342.8  8003.8    13\n",
       "14   4535.4  1190.3     2351.1  8055.0    14\n",
       "15   4566.6  1208.8     2360.1  8111.2    15"
      ]
     },
     "execution_count": null,
     "metadata": {},
     "output_type": "execute_result"
    }
   ],
   "source": [
    "df = read.csv( \"C:\\\\Users\\\\pedro\\\\Documents\\\\github\\\\econometria\\\\Dados\\\\dados_exemplo_log_log.csv\" )\n",
    "df$tempo = 1:dim(df)[1]\n",
    "df"
   ]
  },
  {
   "cell_type": "markdown",
   "metadata": {},
   "source": [
    "###  Modelo Log-Lin para medir a taxa de crescimento das despesas duráveis "
   ]
  },
  {
   "cell_type": "code",
   "execution_count": 6,
   "metadata": {},
   "outputs": [
    {
     "data": {
      "text/plain": [
       "\n",
       "Call:\n",
       "lm(formula = log(DESPDUR) ~ tempo, data = df)\n",
       "\n",
       "Residuals:\n",
       "      Min        1Q    Median        3Q       Max \n",
       "-0.030241 -0.006495  0.004556  0.007281  0.020862 \n",
       "\n",
       "Coefficients:\n",
       "             Estimate Std. Error t value Pr(>|t|)    \n",
       "(Intercept) 6.8949842  0.0081607  844.90  < 2e-16 ***\n",
       "tempo       0.0139948  0.0008976   15.59 8.56e-10 ***\n",
       "---\n",
       "Signif. codes:  0 ‘***’ 0.001 ‘**’ 0.01 ‘*’ 0.05 ‘.’ 0.1 ‘ ’ 1\n",
       "\n",
       "Residual standard error: 0.01502 on 13 degrees of freedom\n",
       "Multiple R-squared:  0.9492,\tAdjusted R-squared:  0.9453 \n",
       "F-statistic: 243.1 on 1 and 13 DF,  p-value: 8.555e-10\n"
      ]
     },
     "execution_count": null,
     "metadata": {},
     "output_type": "execute_result"
    }
   ],
   "source": [
    "lm_loglin <- lm( log(DESPDUR)~  tempo, data = df)\n",
    "summary(lm_loglin)"
   ]
  },
  {
   "cell_type": "markdown",
   "metadata": {},
   "source": [
    "**Intrepretação do modelo log-lin:**\n",
    "\n",
    "A Equação do modelo predito é dada por: \n",
    "\n",
    "$$\n",
    "\\widehat{\\ln DESPDUR}_t = 6.895 + 0.014 \\, tempo\n",
    "$$\n",
    "\n",
    "em que as estimativas para o intercepto e coeficiente de regressão são dados respectivamente por, $\\hat\\beta_0 = 6.895$ e $\\hat\\beta_1 = 0.014$. \n",
    "\n",
    "Interpretação: Em um período que vai do 1º trimestre de 2023 ao 3º trimestre de 2006, implica que as despesas com bens duráveis aumentaram a uma taxa trimestral de 1.4%\n",
    "\n"
   ]
  },
  {
   "cell_type": "code",
   "execution_count": null,
   "metadata": {},
   "outputs": [],
   "source": [
    "#tbl_regression(lm_loglog, intercept = T)"
   ]
  },
  {
   "cell_type": "markdown",
   "metadata": {},
   "source": [
    "###  Modelo Log log para medir a Elasticidade da variável DESPSERV com DESPTCP"
   ]
  },
  {
   "cell_type": "code",
   "execution_count": 4,
   "metadata": {},
   "outputs": [
    {
     "data": {
      "text/plain": [
       "\n",
       "Call:\n",
       "lm(formula = log(DESPSERV) ~ tempo, data = df)\n",
       "\n",
       "Residuals:\n",
       "       Min         1Q     Median         3Q        Max \n",
       "-0.0037151 -0.0025297 -0.0004329  0.0018168  0.0051538 \n",
       "\n",
       "Coefficients:\n",
       "             Estimate Std. Error t value Pr(>|t|)    \n",
       "(Intercept) 8.3226271  0.0016047 5186.30  < 2e-16 ***\n",
       "tempo       0.0070537  0.0001765   39.97 5.42e-15 ***\n",
       "---\n",
       "Signif. codes:  0 ‘***’ 0.001 ‘**’ 0.01 ‘*’ 0.05 ‘.’ 0.1 ‘ ’ 1\n",
       "\n",
       "Residual standard error: 0.002953 on 13 degrees of freedom\n",
       "Multiple R-squared:  0.9919,\tAdjusted R-squared:  0.9913 \n",
       "F-statistic:  1597 on 1 and 13 DF,  p-value: 5.421e-15\n"
      ]
     },
     "execution_count": null,
     "metadata": {},
     "output_type": "execute_result"
    }
   ],
   "source": [
    "lm_loglin <- lm( log(DESPSERV)~  tempo, data = df)\n",
    "summary(lm_loglin)"
   ]
  },
  {
   "cell_type": "markdown",
   "metadata": {},
   "source": [
    "**Intrepretação do modelo log-lin:**\n",
    "\n",
    "A Equação do modelo predito é dada por: \n",
    "\n",
    "$$\n",
    "\\widehat{\\ln DESPDUR}_t = 8.32 + 0.007 \\, tempo\n",
    "$$\n",
    "\n",
    "em que as estimativas para o intercepto e coeficiente de regressão são dados respectivamente por, $\\hat\\beta_0 = 8.32$ e $\\hat\\beta_1 = 0.007$. \n",
    "\n",
    "Interpretação: Em um período que vai do 1º trimestre de 2023 ao 3º trimestre de 2006, implica que as despesas com bens duráveis aumentaram a uma taxa trimestral de 1.4%"
   ]
  }
 ],
 "metadata": {
  "language_info": {
   "name": "r"
  }
 },
 "nbformat": 4,
 "nbformat_minor": 2
}
