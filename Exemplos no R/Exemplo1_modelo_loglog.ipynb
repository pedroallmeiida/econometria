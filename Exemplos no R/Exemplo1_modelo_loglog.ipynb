{
  "cells": [
    {
      "cell_type": "markdown",
      "metadata": {
        "id": "0hSfRVXKanCE"
      },
      "source": [
        "# Modelo Log-log ou Log-Linear\n",
        "\n",
        "## Exemplo 1\n",
        "\n",
        "Suponha que queiramos encontrar a elasticidade das despesas com bens\n",
        "duráveis em relação às despesas totais de consumo pessoal.\n",
        "\n",
        "**Significado das Variáveis:**\n",
        "\n",
        "- DESPSERV: Despesas de serviços\n",
        "- DESPDUR: Despesas com bens duráveis\n",
        "- DESPNAODUR: Despesas não duráveis\n",
        "- DESPTCP: Despesas totais de cosumo pessoal\n",
        "\n"
      ]
    },
    {
      "cell_type": "code",
      "source": [
        "#install.packages(\"gtsummary\")\n",
        "#install.packages(\"broom.helpers\")"
      ],
      "metadata": {
        "id": "Q09OW0mBa1CF"
      },
      "execution_count": 12,
      "outputs": []
    },
    {
      "cell_type": "code",
      "execution_count": 8,
      "metadata": {
        "id": "mH7l40L7anCH"
      },
      "outputs": [],
      "source": [
        "# Bibliotecas R\n",
        "library(ggplot2)\n",
        "library(readr)\n",
        "library(gtsummary) # VIsualizar os resultados dos modelos\n"
      ]
    },
    {
      "cell_type": "markdown",
      "metadata": {
        "id": "r3ZW9gLGanCJ"
      },
      "source": [
        "Leitura do dataset"
      ]
    },
    {
      "cell_type": "code",
      "execution_count": 5,
      "metadata": {
        "id": "ngKbZyQ-anCJ",
        "outputId": "c3ccb9fe-6bc3-4a8d-ffe7-24a6766d3055",
        "colab": {
          "base_uri": "https://localhost:8080/",
          "height": 568
        }
      },
      "outputs": [
        {
          "output_type": "display_data",
          "data": {
            "text/html": [
              "<table class=\"dataframe\">\n",
              "<caption>A data.frame: 15 × 4</caption>\n",
              "<thead>\n",
              "\t<tr><th scope=col>DESPSERV</th><th scope=col>DESPDUR</th><th scope=col>DESPNAODUR</th><th scope=col>DESPTCP</th></tr>\n",
              "\t<tr><th scope=col>&lt;dbl&gt;</th><th scope=col>&lt;dbl&gt;</th><th scope=col>&lt;dbl&gt;</th><th scope=col>&lt;dbl&gt;</th></tr>\n",
              "</thead>\n",
              "<tbody>\n",
              "\t<tr><td>4143.3</td><td> 971.4</td><td>2072.5</td><td>7184.9</td></tr>\n",
              "\t<tr><td>4161.3</td><td>1009.8</td><td>2084.2</td><td>7249.3</td></tr>\n",
              "\t<tr><td>4190.7</td><td>1049.6</td><td>2123.0</td><td>7352.9</td></tr>\n",
              "\t<tr><td>4220.2</td><td>1051.4</td><td>2132.5</td><td>7394.3</td></tr>\n",
              "\t<tr><td>4268.2</td><td>1067.0</td><td>2155.3</td><td>7479.8</td></tr>\n",
              "\t<tr><td>4308.4</td><td>1071.4</td><td>2164.3</td><td>7534.4</td></tr>\n",
              "\t<tr><td>4341.5</td><td>1093.9</td><td>2184.0</td><td>7607.1</td></tr>\n",
              "\t<tr><td>4377.4</td><td>1110.3</td><td>2213.1</td><td>7687.1</td></tr>\n",
              "\t<tr><td>4395.3</td><td>1116.8</td><td>2241.5</td><td>7739.4</td></tr>\n",
              "\t<tr><td>4420.0</td><td>1150.8</td><td>2268.4</td><td>7819.8</td></tr>\n",
              "\t<tr><td>4454.5</td><td>1175.9</td><td>2287.6</td><td>7895.3</td></tr>\n",
              "\t<tr><td>4476.7</td><td>1137.9</td><td>2309.6</td><td>7910.2</td></tr>\n",
              "\t<tr><td>4494.5</td><td>1190.5</td><td>2342.8</td><td>8003.8</td></tr>\n",
              "\t<tr><td>4535.4</td><td>1190.3</td><td>2351.1</td><td>8055.0</td></tr>\n",
              "\t<tr><td>4566.6</td><td>1208.8</td><td>2360.1</td><td>8111.2</td></tr>\n",
              "</tbody>\n",
              "</table>\n"
            ],
            "text/markdown": "\nA data.frame: 15 × 4\n\n| DESPSERV &lt;dbl&gt; | DESPDUR &lt;dbl&gt; | DESPNAODUR &lt;dbl&gt; | DESPTCP &lt;dbl&gt; |\n|---|---|---|---|\n| 4143.3 |  971.4 | 2072.5 | 7184.9 |\n| 4161.3 | 1009.8 | 2084.2 | 7249.3 |\n| 4190.7 | 1049.6 | 2123.0 | 7352.9 |\n| 4220.2 | 1051.4 | 2132.5 | 7394.3 |\n| 4268.2 | 1067.0 | 2155.3 | 7479.8 |\n| 4308.4 | 1071.4 | 2164.3 | 7534.4 |\n| 4341.5 | 1093.9 | 2184.0 | 7607.1 |\n| 4377.4 | 1110.3 | 2213.1 | 7687.1 |\n| 4395.3 | 1116.8 | 2241.5 | 7739.4 |\n| 4420.0 | 1150.8 | 2268.4 | 7819.8 |\n| 4454.5 | 1175.9 | 2287.6 | 7895.3 |\n| 4476.7 | 1137.9 | 2309.6 | 7910.2 |\n| 4494.5 | 1190.5 | 2342.8 | 8003.8 |\n| 4535.4 | 1190.3 | 2351.1 | 8055.0 |\n| 4566.6 | 1208.8 | 2360.1 | 8111.2 |\n\n",
            "text/latex": "A data.frame: 15 × 4\n\\begin{tabular}{llll}\n DESPSERV & DESPDUR & DESPNAODUR & DESPTCP\\\\\n <dbl> & <dbl> & <dbl> & <dbl>\\\\\n\\hline\n\t 4143.3 &  971.4 & 2072.5 & 7184.9\\\\\n\t 4161.3 & 1009.8 & 2084.2 & 7249.3\\\\\n\t 4190.7 & 1049.6 & 2123.0 & 7352.9\\\\\n\t 4220.2 & 1051.4 & 2132.5 & 7394.3\\\\\n\t 4268.2 & 1067.0 & 2155.3 & 7479.8\\\\\n\t 4308.4 & 1071.4 & 2164.3 & 7534.4\\\\\n\t 4341.5 & 1093.9 & 2184.0 & 7607.1\\\\\n\t 4377.4 & 1110.3 & 2213.1 & 7687.1\\\\\n\t 4395.3 & 1116.8 & 2241.5 & 7739.4\\\\\n\t 4420.0 & 1150.8 & 2268.4 & 7819.8\\\\\n\t 4454.5 & 1175.9 & 2287.6 & 7895.3\\\\\n\t 4476.7 & 1137.9 & 2309.6 & 7910.2\\\\\n\t 4494.5 & 1190.5 & 2342.8 & 8003.8\\\\\n\t 4535.4 & 1190.3 & 2351.1 & 8055.0\\\\\n\t 4566.6 & 1208.8 & 2360.1 & 8111.2\\\\\n\\end{tabular}\n",
            "text/plain": [
              "   DESPSERV DESPDUR DESPNAODUR DESPTCP\n",
              "1  4143.3    971.4  2072.5     7184.9 \n",
              "2  4161.3   1009.8  2084.2     7249.3 \n",
              "3  4190.7   1049.6  2123.0     7352.9 \n",
              "4  4220.2   1051.4  2132.5     7394.3 \n",
              "5  4268.2   1067.0  2155.3     7479.8 \n",
              "6  4308.4   1071.4  2164.3     7534.4 \n",
              "7  4341.5   1093.9  2184.0     7607.1 \n",
              "8  4377.4   1110.3  2213.1     7687.1 \n",
              "9  4395.3   1116.8  2241.5     7739.4 \n",
              "10 4420.0   1150.8  2268.4     7819.8 \n",
              "11 4454.5   1175.9  2287.6     7895.3 \n",
              "12 4476.7   1137.9  2309.6     7910.2 \n",
              "13 4494.5   1190.5  2342.8     8003.8 \n",
              "14 4535.4   1190.3  2351.1     8055.0 \n",
              "15 4566.6   1208.8  2360.1     8111.2 "
            ]
          },
          "metadata": {}
        }
      ],
      "source": [
        "df = read.csv( \"https://raw.githubusercontent.com/pedroallmeiida/econometria/refs/heads/main/Dados/dados_exemplo_log_log.csv\" )\n",
        "df"
      ]
    },
    {
      "cell_type": "markdown",
      "metadata": {
        "id": "S1Dd-wTvanCK"
      },
      "source": [
        "Correlação"
      ]
    },
    {
      "cell_type": "code",
      "execution_count": 13,
      "metadata": {
        "id": "BeHiluQmanCK",
        "outputId": "d12f9e4d-d53d-42a9-b466-5903dd836d8f",
        "colab": {
          "base_uri": "https://localhost:8080/",
          "height": 192
        }
      },
      "outputs": [
        {
          "output_type": "display_data",
          "data": {
            "text/html": [
              "<table class=\"dataframe\">\n",
              "<caption>A matrix: 4 × 4 of type dbl</caption>\n",
              "<thead>\n",
              "\t<tr><th></th><th scope=col>DESPSERV</th><th scope=col>DESPDUR</th><th scope=col>DESPNAODUR</th><th scope=col>DESPTCP</th></tr>\n",
              "</thead>\n",
              "<tbody>\n",
              "\t<tr><th scope=row>DESPSERV</th><td>1.0000000</td><td>0.9735536</td><td>0.9891647</td><td>0.9969194</td></tr>\n",
              "\t<tr><th scope=row>DESPDUR</th><td>0.9735536</td><td>1.0000000</td><td>0.9770823</td><td>0.9855626</td></tr>\n",
              "\t<tr><th scope=row>DESPNAODUR</th><td>0.9891647</td><td>0.9770823</td><td>1.0000000</td><td>0.9958636</td></tr>\n",
              "\t<tr><th scope=row>DESPTCP</th><td>0.9969194</td><td>0.9855626</td><td>0.9958636</td><td>1.0000000</td></tr>\n",
              "</tbody>\n",
              "</table>\n"
            ],
            "text/markdown": "\nA matrix: 4 × 4 of type dbl\n\n| <!--/--> | DESPSERV | DESPDUR | DESPNAODUR | DESPTCP |\n|---|---|---|---|---|\n| DESPSERV | 1.0000000 | 0.9735536 | 0.9891647 | 0.9969194 |\n| DESPDUR | 0.9735536 | 1.0000000 | 0.9770823 | 0.9855626 |\n| DESPNAODUR | 0.9891647 | 0.9770823 | 1.0000000 | 0.9958636 |\n| DESPTCP | 0.9969194 | 0.9855626 | 0.9958636 | 1.0000000 |\n\n",
            "text/latex": "A matrix: 4 × 4 of type dbl\n\\begin{tabular}{r|llll}\n  & DESPSERV & DESPDUR & DESPNAODUR & DESPTCP\\\\\n\\hline\n\tDESPSERV & 1.0000000 & 0.9735536 & 0.9891647 & 0.9969194\\\\\n\tDESPDUR & 0.9735536 & 1.0000000 & 0.9770823 & 0.9855626\\\\\n\tDESPNAODUR & 0.9891647 & 0.9770823 & 1.0000000 & 0.9958636\\\\\n\tDESPTCP & 0.9969194 & 0.9855626 & 0.9958636 & 1.0000000\\\\\n\\end{tabular}\n",
            "text/plain": [
              "           DESPSERV  DESPDUR   DESPNAODUR DESPTCP  \n",
              "DESPSERV   1.0000000 0.9735536 0.9891647  0.9969194\n",
              "DESPDUR    0.9735536 1.0000000 0.9770823  0.9855626\n",
              "DESPNAODUR 0.9891647 0.9770823 1.0000000  0.9958636\n",
              "DESPTCP    0.9969194 0.9855626 0.9958636  1.0000000"
            ]
          },
          "metadata": {}
        }
      ],
      "source": [
        "cor(df)"
      ]
    },
    {
      "cell_type": "markdown",
      "metadata": {
        "id": "HZ9PUDNjanCK"
      },
      "source": [
        "###  Modelo Log log para medir a Elasticidade da variável DESPDUR com DESPTCP"
      ]
    },
    {
      "cell_type": "code",
      "execution_count": 15,
      "metadata": {
        "id": "8eXyUb8-anCK",
        "outputId": "daecd53f-86f8-49c7-b97c-9c26586bbf8c",
        "colab": {
          "base_uri": "https://localhost:8080/",
          "height": 329
        }
      },
      "outputs": [
        {
          "output_type": "display_data",
          "data": {
            "text/plain": [
              "\n",
              "Call:\n",
              "lm(formula = log(DESPDUR) ~ log(DESPTCP), data = df)\n",
              "\n",
              "Residuals:\n",
              "       Min         1Q     Median         3Q        Max \n",
              "-0.0234363 -0.0037955  0.0008182  0.0066518  0.0163937 \n",
              "\n",
              "Coefficients:\n",
              "             Estimate Std. Error t value Pr(>|t|)    \n",
              "(Intercept)  -7.54166    0.71615  -10.53 9.84e-08 ***\n",
              "log(DESPTCP)  1.62661    0.08007   20.32 3.12e-11 ***\n",
              "---\n",
              "Signif. codes:  0 ‘***’ 0.001 ‘**’ 0.01 ‘*’ 0.05 ‘.’ 0.1 ‘ ’ 1\n",
              "\n",
              "Residual standard error: 0.01165 on 13 degrees of freedom\n",
              "Multiple R-squared:  0.9695,\tAdjusted R-squared:  0.9671 \n",
              "F-statistic: 412.7 on 1 and 13 DF,  p-value: 3.118e-11\n"
            ]
          },
          "metadata": {}
        }
      ],
      "source": [
        "lm_loglog <- lm( log(DESPDUR)~ log(DESPTCP), data = df)\n",
        "summary(lm_loglog)"
      ]
    },
    {
      "cell_type": "markdown",
      "metadata": {
        "id": "CnYipKEXanCL"
      },
      "source": [
        "**Intrepretação do modelo log-log:**\n",
        "\n",
        "A Equação do modelo predito é dada por:\n",
        "\n",
        "$$\n",
        "\\widehat{\\ln DESPDUR}_t = -7.54 + 1.63 \\, \\ln DESPTCP_t\n",
        "$$\n",
        "\n",
        "em que as estimativas para o intercepto e coeficiente de regressão são dados respectivamente por, $\\hat\\beta_0 = -7.54$ e $\\hat\\beta_1 = 1.63$.\n",
        "\n",
        "A Elasticidade de DESPDUR em relação a DESPTCP é de cerca de 1,63, sugerindo que quando as despesas totais aumentam em 1%, as despesas com bens duráveis aumentam cerca de 1,63% em média.\n",
        "\n",
        "\n"
      ]
    },
    {
      "cell_type": "code",
      "execution_count": 16,
      "metadata": {
        "id": "M2fGTl7_anCL"
      },
      "outputs": [],
      "source": [
        "#tbl_regression(lm_loglog, intercept = T)"
      ]
    },
    {
      "cell_type": "markdown",
      "metadata": {
        "id": "biSNeD7qanCL"
      },
      "source": [
        "###  Modelo Log log para medir a Elasticidade da variável DESPSERV com DESPTCP"
      ]
    },
    {
      "cell_type": "code",
      "execution_count": 17,
      "metadata": {
        "id": "R3YMp9XxanCL",
        "outputId": "c81da01e-b9c0-4c57-b9b1-43e639557179",
        "colab": {
          "base_uri": "https://localhost:8080/",
          "height": 329
        }
      },
      "outputs": [
        {
          "output_type": "display_data",
          "data": {
            "text/plain": [
              "\n",
              "Call:\n",
              "lm(formula = log(DESPSERV) ~ log(DESPTCP), data = df)\n",
              "\n",
              "Residuals:\n",
              "      Min        1Q    Median        3Q       Max \n",
              "-0.004900 -0.001634  0.000090  0.002143  0.002998 \n",
              "\n",
              "Coefficients:\n",
              "             Estimate Std. Error t value Pr(>|t|)    \n",
              "(Intercept)   1.11614    0.15852   7.041 8.79e-06 ***\n",
              "log(DESPTCP)  0.81203    0.01772  45.817 9.28e-16 ***\n",
              "---\n",
              "Signif. codes:  0 ‘***’ 0.001 ‘**’ 0.01 ‘*’ 0.05 ‘.’ 0.1 ‘ ’ 1\n",
              "\n",
              "Residual standard error: 0.002579 on 13 degrees of freedom\n",
              "Multiple R-squared:  0.9938,\tAdjusted R-squared:  0.9934 \n",
              "F-statistic:  2099 on 1 and 13 DF,  p-value: 9.282e-16\n"
            ]
          },
          "metadata": {}
        }
      ],
      "source": [
        "lm_loglog <- lm( log(DESPSERV)~ log(DESPTCP), data = df)\n",
        "summary(lm_loglog)"
      ]
    },
    {
      "cell_type": "markdown",
      "metadata": {
        "id": "NxC6wLmqanCM"
      },
      "source": [
        "**Intrepretação do modelo log-log:**\n",
        "\n",
        "A Equação do modelo predito é dada por:\n",
        "\n",
        "$$\n",
        "\\widehat{\\ln DESPSERV}_t = 1.12 + 0.81 \\, \\ln DESPTCP_t\n",
        "$$\n",
        "\n",
        "em que as estimativas para o intercepto e coeficiente de regressão são dados respectivamente por, $\\hat\\beta_0 = 1.12$ e $\\hat\\beta_1 = 0.81$.\n",
        "\n",
        "A Elasticidade de DESPSERV em relação a DESPTCP é de cerca de 0.81, sugerindo que quando as despesas totais aumentam em 1%, as despesas com bens duráveis aumentam cerca de 0.81% em média.\n",
        "\n",
        "Ou ainda, um aumento de 10% nas despesas de serviços, fazem com que as despesas com bens duráveis aumentam cerca de 8.1% em média."
      ]
    }
  ],
  "metadata": {
    "language_info": {
      "name": "R"
    },
    "colab": {
      "provenance": []
    },
    "kernelspec": {
      "name": "ir",
      "display_name": "R"
    }
  },
  "nbformat": 4,
  "nbformat_minor": 0
}