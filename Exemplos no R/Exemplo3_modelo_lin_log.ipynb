{
 "cells": [
  {
   "cell_type": "markdown",
   "metadata": {},
   "source": [
    "# Modelo Lin-Log\n",
    "\n",
    "## Exemplo 3\n",
    "\n",
    "Suponha agora que queremos conhecer a varição absoluta de Y da uma variação percentual de X. Neste exemplo vamos estudar o comportamento das despesas com alimentação na índia.\n",
    "\n",
    "**Significado das Variáveis:** \n",
    "\n",
    "- DESPSERV: Despesas de serviços\n",
    "- DESPDUR: Despesas com bens duráveis\n",
    "- DESPNAODUR: Despesas não duráveis\n",
    "- DESPTCP: Despesas totais de cosumo pessoal"
   ]
  },
  {
   "cell_type": "code",
   "execution_count": null,
   "metadata": {},
   "outputs": [],
   "source": [
    "# Bibliotecas R \n",
    "library(ggplot2)\n",
    "library(readr)\n",
    "library(gtsummary) # VIsualizar os resultados dos modelos"
   ]
  },
  {
   "cell_type": "markdown",
   "metadata": {},
   "source": [
    "Leitura do dataset"
   ]
  },
  {
   "cell_type": "code",
   "execution_count": null,
   "metadata": {},
   "outputs": [],
   "source": [
    "df = read.csv( \"C:\\\\Users\\\\pedro\\\\Documents\\\\github\\\\econometria\\\\Dados\\\\despesas_alimentacao.csv\" )\n",
    "df"
   ]
  },
  {
   "cell_type": "markdown",
   "metadata": {},
   "source": [
    "Modelo Lin-Log"
   ]
  },
  {
   "cell_type": "code",
   "execution_count": null,
   "metadata": {},
   "outputs": [],
   "source": [
    "lm_linlog<- lm( Despesas_Alimentacao~  log(Despesa_Total), data = df)\n",
    "summary(lm_linlog)"
   ]
  },
  {
   "cell_type": "markdown",
   "metadata": {},
   "source": [
    "**Intrepretação do modelo log-log:**\n",
    "\n",
    "A Equação do modelo predito é dada por: \n",
    "\n",
    "$$\n",
    "\\widehat{Despesas_Alimentacao}_i = -1283.91 + 257.27 \\, \\ln Despesa_Total_i\n",
    "$$\n",
    "\n",
    "em que as estimativas para o intercepto e coeficiente de regressão são dados respectivamente por, $\\hat\\beta_0 = -1283.91$ e $\\hat\\beta_1 = 257.27$. \n",
    "\n",
    "Seja $\\hat\\beta_1 = 257.27$, significa que um aumento de 1%, em média, nas despesas totais leva a um aumento de cerca de 2.57 rupias nas despesas com alimentos das 55 famílias incluídas na amostra. "
   ]
  },
  {
   "cell_type": "code",
   "execution_count": null,
   "metadata": {},
   "outputs": [],
   "source": []
  },
  {
   "cell_type": "code",
   "execution_count": null,
   "metadata": {},
   "outputs": [],
   "source": []
  },
  {
   "cell_type": "code",
   "execution_count": null,
   "metadata": {},
   "outputs": [],
   "source": []
  },
  {
   "cell_type": "code",
   "execution_count": null,
   "metadata": {},
   "outputs": [],
   "source": []
  },
  {
   "cell_type": "code",
   "execution_count": null,
   "metadata": {},
   "outputs": [],
   "source": []
  }
 ],
 "metadata": {
  "language_info": {
   "name": "r"
  }
 },
 "nbformat": 4,
 "nbformat_minor": 2
}
