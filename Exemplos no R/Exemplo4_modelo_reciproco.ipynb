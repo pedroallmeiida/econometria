{
 "cells": [
  {
   "cell_type": "markdown",
   "metadata": {},
   "source": [
    "# Modelo Recíproco\n",
    "\n",
    "## Exemplo 4\n",
    "\n",
    "Suponha agora que queremos conhecer a varição absoluta de Y da uma variação percentual de X. Neste exemplo vamos estudar o comportamento da mortalidade infantil com o Produto Nacional Bruto (PNB).\n",
    "\n",
    "**Significado das Variáveis:** \n",
    "\n",
    "- MI: Mortalidade Infantil\n",
    "- PNBpe: Produto Nacional Bruto per capita\n",
    "- TAF:Taxa de analfabetismo feminino (em %)\n",
    "- TFT: taxa de fecundidade total "
   ]
  },
  {
   "cell_type": "code",
   "execution_count": null,
   "metadata": {},
   "outputs": [],
   "source": [
    "# Bibliotecas R \n",
    "library(ggplot2)\n",
    "library(readr)\n",
    "library(gtsummary) # VIsualizar os resultados dos modelos"
   ]
  },
  {
   "cell_type": "markdown",
   "metadata": {},
   "source": [
    "Leitura do dataset"
   ]
  },
  {
   "cell_type": "code",
   "execution_count": null,
   "metadata": {},
   "outputs": [],
   "source": [
    "df = read.csv( \"C:\\\\Users\\\\pedro\\\\Documents\\\\github\\\\econometria\\\\Dados\\\\dados_exemplo_mortalidade_infantil.csv\" )\n",
    "df"
   ]
  },
  {
   "cell_type": "code",
   "execution_count": null,
   "metadata": {},
   "outputs": [],
   "source": [
    "lm_linlog<- lm( MI~  1/(PNBpc) + (1/TAF), data = df)\n",
    "summary(lm_linlog)"
   ]
  },
  {
   "cell_type": "markdown",
   "metadata": {},
   "source": [
    "**Intrepretação do modelo recíproco:**\n",
    "\n",
    "A Equação do modelo predito é dada por: \n",
    "\n",
    "$$\n",
    "\\widehat{MI}_i = 81.79 + 27.237 \\, \\ln PBNpc_i\n",
    "$$\n",
    "\n",
    "em que as estimativas para o intercepto e coeficiente de regressão são dados respectivamente por, $\\hat\\beta_0 = 81,79$ e $\\hat\\beta_1 = 27.237$. \n",
    "\n",
    "Seja $\\hat\\beta_0 = 81.79$, significa que a medida que o PNB per capita aumenta indefinidamente, a mortalidade infantil aproxima-se de cerca de 82 óbitos por mil habitantes. "
   ]
  },
  {
   "cell_type": "code",
   "execution_count": null,
   "metadata": {},
   "outputs": [],
   "source": [
    "lm_linlog<- lm( MI~  1/(PNBpc), data = df)\n",
    "summary(lm_linlog)"
   ]
  },
  {
   "cell_type": "code",
   "execution_count": null,
   "metadata": {},
   "outputs": [],
   "source": [
    "**Intrepretação do modelo recíproco:**\n",
    "\n",
    "A Equação do modelo predito é dada por: \n",
    "\n",
    "$$\n",
    "\\widehat{MI}_i = 81.79 + 27.237 \\, \\ln PBNpc_i\n",
    "$$\n",
    "\n",
    "em que as estimativas para o intercepto e coeficiente de regressão são dados respectivamente por, $\\hat\\beta_0 = 81,79$ e $\\hat\\beta_1 = 27.237$. \n",
    "\n",
    "Seja $\\hat\\beta_0 = 81.79$, significa que a medida que o PNB per capita aumenta indefinidamente, a mortalidade infantil aproxima-se de cerca de 82 óbitos por mil habitantes. "
   ]
  },
  {
   "cell_type": "code",
   "execution_count": null,
   "metadata": {},
   "outputs": [],
   "source": []
  }
 ],
 "metadata": {
  "language_info": {
   "name": "r"
  }
 },
 "nbformat": 4,
 "nbformat_minor": 2
}
