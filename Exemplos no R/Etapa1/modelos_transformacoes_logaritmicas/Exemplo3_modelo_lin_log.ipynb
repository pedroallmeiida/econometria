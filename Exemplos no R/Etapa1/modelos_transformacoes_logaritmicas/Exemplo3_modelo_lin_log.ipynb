{
  "cells": [
    {
      "cell_type": "markdown",
      "metadata": {
        "id": "view-in-github",
        "colab_type": "text"
      },
      "source": [
        "<a href=\"https://colab.research.google.com/github/pedroallmeiida/econometria/blob/main/Exemplos%20no%20R/Exemplo3_modelo_lin_log.ipynb\" target=\"_parent\"><img src=\"https://colab.research.google.com/assets/colab-badge.svg\" alt=\"Open In Colab\"/></a>"
      ]
    },
    {
      "cell_type": "markdown",
      "metadata": {
        "id": "ZL2xI0_5enXn"
      },
      "source": [
        "# Modelo Lin-Log\n",
        "\n",
        "## Exemplo 3\n",
        "\n",
        "Suponha agora que queremos conhecer a varição absoluta de Y da uma variação percentual de X. Neste exemplo vamos estudar o comportamento das despesas com alimentação na índia usando sua moeda local (rubia).\n",
        "\n",
        "**Significado das Variáveis:**\n",
        "\n",
        "- Despesas_Alimentacao: Despesas com alimentação (em rubias)\n",
        "- Despesa_Total: Despesas totais (em rubias)"
      ]
    },
    {
      "cell_type": "code",
      "execution_count": 2,
      "metadata": {
        "id": "CnH00vBaenXo"
      },
      "outputs": [],
      "source": [
        "# Bibliotecas R\n",
        "library(ggplot2)\n",
        "library(readr)\n"
      ]
    },
    {
      "cell_type": "markdown",
      "metadata": {
        "id": "HBSHK_SZenXo"
      },
      "source": [
        "Leitura do dataset"
      ]
    },
    {
      "cell_type": "code",
      "execution_count": 3,
      "metadata": {
        "colab": {
          "base_uri": "https://localhost:8080/",
          "height": 1000
        },
        "id": "Jn70dhaqenXo",
        "outputId": "1d8cd855-70d0-4277-8986-181168fa3634"
      },
      "outputs": [
        {
          "output_type": "display_data",
          "data": {
            "text/html": [
              "<table class=\"dataframe\">\n",
              "<caption>A data.frame: 55 × 2</caption>\n",
              "<thead>\n",
              "\t<tr><th scope=col>Despesas_Alimentacao</th><th scope=col>Despesa_Total</th></tr>\n",
              "\t<tr><th scope=col>&lt;int&gt;</th><th scope=col>&lt;int&gt;</th></tr>\n",
              "</thead>\n",
              "<tbody>\n",
              "\t<tr><td>217</td><td>382</td></tr>\n",
              "\t<tr><td>196</td><td>388</td></tr>\n",
              "\t<tr><td>303</td><td>391</td></tr>\n",
              "\t<tr><td>270</td><td>415</td></tr>\n",
              "\t<tr><td>325</td><td>456</td></tr>\n",
              "\t<tr><td>260</td><td>460</td></tr>\n",
              "\t<tr><td>300</td><td>472</td></tr>\n",
              "\t<tr><td>325</td><td>478</td></tr>\n",
              "\t<tr><td>336</td><td>494</td></tr>\n",
              "\t<tr><td>345</td><td>516</td></tr>\n",
              "\t<tr><td>325</td><td>525</td></tr>\n",
              "\t<tr><td>362</td><td>554</td></tr>\n",
              "\t<tr><td>315</td><td>575</td></tr>\n",
              "\t<tr><td>355</td><td>579</td></tr>\n",
              "\t<tr><td>325</td><td>585</td></tr>\n",
              "\t<tr><td>370</td><td>586</td></tr>\n",
              "\t<tr><td>390</td><td>590</td></tr>\n",
              "\t<tr><td>420</td><td>608</td></tr>\n",
              "\t<tr><td>410</td><td>610</td></tr>\n",
              "\t<tr><td>383</td><td>616</td></tr>\n",
              "\t<tr><td>315</td><td>618</td></tr>\n",
              "\t<tr><td>267</td><td>623</td></tr>\n",
              "\t<tr><td>420</td><td>627</td></tr>\n",
              "\t<tr><td>300</td><td>630</td></tr>\n",
              "\t<tr><td>410</td><td>635</td></tr>\n",
              "\t<tr><td>220</td><td>640</td></tr>\n",
              "\t<tr><td>403</td><td>648</td></tr>\n",
              "\t<tr><td>350</td><td>650</td></tr>\n",
              "\t<tr><td>390</td><td>655</td></tr>\n",
              "\t<tr><td>385</td><td>662</td></tr>\n",
              "\t<tr><td>470</td><td>663</td></tr>\n",
              "\t<tr><td>322</td><td>677</td></tr>\n",
              "\t<tr><td>540</td><td>680</td></tr>\n",
              "\t<tr><td>433</td><td>690</td></tr>\n",
              "\t<tr><td>295</td><td>695</td></tr>\n",
              "\t<tr><td>340</td><td>695</td></tr>\n",
              "\t<tr><td>500</td><td>695</td></tr>\n",
              "\t<tr><td>450</td><td>720</td></tr>\n",
              "\t<tr><td>415</td><td>721</td></tr>\n",
              "\t<tr><td>540</td><td>730</td></tr>\n",
              "\t<tr><td>360</td><td>731</td></tr>\n",
              "\t<tr><td>450</td><td>733</td></tr>\n",
              "\t<tr><td>395</td><td>745</td></tr>\n",
              "\t<tr><td>430</td><td>751</td></tr>\n",
              "\t<tr><td>332</td><td>752</td></tr>\n",
              "\t<tr><td>397</td><td>752</td></tr>\n",
              "\t<tr><td>446</td><td>769</td></tr>\n",
              "\t<tr><td>480</td><td>773</td></tr>\n",
              "\t<tr><td>352</td><td>773</td></tr>\n",
              "\t<tr><td>410</td><td>775</td></tr>\n",
              "\t<tr><td>380</td><td>785</td></tr>\n",
              "\t<tr><td>610</td><td>788</td></tr>\n",
              "\t<tr><td>530</td><td>790</td></tr>\n",
              "\t<tr><td>360</td><td>795</td></tr>\n",
              "\t<tr><td>305</td><td>801</td></tr>\n",
              "</tbody>\n",
              "</table>\n"
            ],
            "text/markdown": "\nA data.frame: 55 × 2\n\n| Despesas_Alimentacao &lt;int&gt; | Despesa_Total &lt;int&gt; |\n|---|---|\n| 217 | 382 |\n| 196 | 388 |\n| 303 | 391 |\n| 270 | 415 |\n| 325 | 456 |\n| 260 | 460 |\n| 300 | 472 |\n| 325 | 478 |\n| 336 | 494 |\n| 345 | 516 |\n| 325 | 525 |\n| 362 | 554 |\n| 315 | 575 |\n| 355 | 579 |\n| 325 | 585 |\n| 370 | 586 |\n| 390 | 590 |\n| 420 | 608 |\n| 410 | 610 |\n| 383 | 616 |\n| 315 | 618 |\n| 267 | 623 |\n| 420 | 627 |\n| 300 | 630 |\n| 410 | 635 |\n| 220 | 640 |\n| 403 | 648 |\n| 350 | 650 |\n| 390 | 655 |\n| 385 | 662 |\n| 470 | 663 |\n| 322 | 677 |\n| 540 | 680 |\n| 433 | 690 |\n| 295 | 695 |\n| 340 | 695 |\n| 500 | 695 |\n| 450 | 720 |\n| 415 | 721 |\n| 540 | 730 |\n| 360 | 731 |\n| 450 | 733 |\n| 395 | 745 |\n| 430 | 751 |\n| 332 | 752 |\n| 397 | 752 |\n| 446 | 769 |\n| 480 | 773 |\n| 352 | 773 |\n| 410 | 775 |\n| 380 | 785 |\n| 610 | 788 |\n| 530 | 790 |\n| 360 | 795 |\n| 305 | 801 |\n\n",
            "text/latex": "A data.frame: 55 × 2\n\\begin{tabular}{ll}\n Despesas\\_Alimentacao & Despesa\\_Total\\\\\n <int> & <int>\\\\\n\\hline\n\t 217 & 382\\\\\n\t 196 & 388\\\\\n\t 303 & 391\\\\\n\t 270 & 415\\\\\n\t 325 & 456\\\\\n\t 260 & 460\\\\\n\t 300 & 472\\\\\n\t 325 & 478\\\\\n\t 336 & 494\\\\\n\t 345 & 516\\\\\n\t 325 & 525\\\\\n\t 362 & 554\\\\\n\t 315 & 575\\\\\n\t 355 & 579\\\\\n\t 325 & 585\\\\\n\t 370 & 586\\\\\n\t 390 & 590\\\\\n\t 420 & 608\\\\\n\t 410 & 610\\\\\n\t 383 & 616\\\\\n\t 315 & 618\\\\\n\t 267 & 623\\\\\n\t 420 & 627\\\\\n\t 300 & 630\\\\\n\t 410 & 635\\\\\n\t 220 & 640\\\\\n\t 403 & 648\\\\\n\t 350 & 650\\\\\n\t 390 & 655\\\\\n\t 385 & 662\\\\\n\t 470 & 663\\\\\n\t 322 & 677\\\\\n\t 540 & 680\\\\\n\t 433 & 690\\\\\n\t 295 & 695\\\\\n\t 340 & 695\\\\\n\t 500 & 695\\\\\n\t 450 & 720\\\\\n\t 415 & 721\\\\\n\t 540 & 730\\\\\n\t 360 & 731\\\\\n\t 450 & 733\\\\\n\t 395 & 745\\\\\n\t 430 & 751\\\\\n\t 332 & 752\\\\\n\t 397 & 752\\\\\n\t 446 & 769\\\\\n\t 480 & 773\\\\\n\t 352 & 773\\\\\n\t 410 & 775\\\\\n\t 380 & 785\\\\\n\t 610 & 788\\\\\n\t 530 & 790\\\\\n\t 360 & 795\\\\\n\t 305 & 801\\\\\n\\end{tabular}\n",
            "text/plain": [
              "   Despesas_Alimentacao Despesa_Total\n",
              "1  217                  382          \n",
              "2  196                  388          \n",
              "3  303                  391          \n",
              "4  270                  415          \n",
              "5  325                  456          \n",
              "6  260                  460          \n",
              "7  300                  472          \n",
              "8  325                  478          \n",
              "9  336                  494          \n",
              "10 345                  516          \n",
              "11 325                  525          \n",
              "12 362                  554          \n",
              "13 315                  575          \n",
              "14 355                  579          \n",
              "15 325                  585          \n",
              "16 370                  586          \n",
              "17 390                  590          \n",
              "18 420                  608          \n",
              "19 410                  610          \n",
              "20 383                  616          \n",
              "21 315                  618          \n",
              "22 267                  623          \n",
              "23 420                  627          \n",
              "24 300                  630          \n",
              "25 410                  635          \n",
              "26 220                  640          \n",
              "27 403                  648          \n",
              "28 350                  650          \n",
              "29 390                  655          \n",
              "30 385                  662          \n",
              "31 470                  663          \n",
              "32 322                  677          \n",
              "33 540                  680          \n",
              "34 433                  690          \n",
              "35 295                  695          \n",
              "36 340                  695          \n",
              "37 500                  695          \n",
              "38 450                  720          \n",
              "39 415                  721          \n",
              "40 540                  730          \n",
              "41 360                  731          \n",
              "42 450                  733          \n",
              "43 395                  745          \n",
              "44 430                  751          \n",
              "45 332                  752          \n",
              "46 397                  752          \n",
              "47 446                  769          \n",
              "48 480                  773          \n",
              "49 352                  773          \n",
              "50 410                  775          \n",
              "51 380                  785          \n",
              "52 610                  788          \n",
              "53 530                  790          \n",
              "54 360                  795          \n",
              "55 305                  801          "
            ]
          },
          "metadata": {}
        }
      ],
      "source": [
        "df = read.csv( \"https://raw.githubusercontent.com/pedroallmeiida/econometria/refs/heads/main/Dados/despesas_alimentacao.csv\" )\n",
        "df"
      ]
    },
    {
      "cell_type": "markdown",
      "metadata": {
        "id": "jb2ZZOceenXp"
      },
      "source": [
        "Modelo Lin-Log"
      ]
    },
    {
      "cell_type": "code",
      "execution_count": 4,
      "metadata": {
        "colab": {
          "base_uri": "https://localhost:8080/",
          "height": 329
        },
        "id": "IHQ9qokQenXp",
        "outputId": "c717d143-c363-469a-f9cf-79303c7035de"
      },
      "outputs": [
        {
          "output_type": "display_data",
          "data": {
            "text/plain": [
              "\n",
              "Call:\n",
              "lm(formula = Despesas_Alimentacao ~ log(Despesa_Total), data = df)\n",
              "\n",
              "Residuals:\n",
              "    Min      1Q  Median      3Q     Max \n",
              "-158.43  -43.42    5.61   34.50  178.05 \n",
              "\n",
              "Coefficients:\n",
              "                   Estimate Std. Error t value Pr(>|t|)    \n",
              "(Intercept)        -1283.91     292.81  -4.385 5.54e-05 ***\n",
              "log(Despesa_Total)   257.27      45.43   5.662 6.20e-07 ***\n",
              "---\n",
              "Signif. codes:  0 ‘***’ 0.001 ‘**’ 0.01 ‘*’ 0.05 ‘.’ 0.1 ‘ ’ 1\n",
              "\n",
              "Residual standard error: 66.48 on 53 degrees of freedom\n",
              "Multiple R-squared:  0.3769,\tAdjusted R-squared:  0.3652 \n",
              "F-statistic: 32.06 on 1 and 53 DF,  p-value: 6.201e-07\n"
            ]
          },
          "metadata": {}
        }
      ],
      "source": [
        "lm_linlog<- lm( Despesas_Alimentacao~  log(Despesa_Total), data = df)\n",
        "summary(lm_linlog)"
      ]
    },
    {
      "cell_type": "markdown",
      "metadata": {
        "id": "nR7NRTOXenXp"
      },
      "source": [
        "**Intrepretação do modelo log-log:**\n",
        "\n",
        "A Equação do modelo predito é dada por:\n",
        "\n",
        "$$\n",
        "\\widehat{\\text{Despesas_Alimentacao}}_i = -1283.91 + 257.27 \\, \\ln \\text{Despesa_Total}_i\n",
        "$$\n",
        "\n",
        "em que as estimativas para o intercepto e coeficiente de regressão são dados respectivamente por, $\\hat\\beta_0 = -1283.91$ e $\\hat\\beta_1 = 257.27$.\n",
        "\n",
        "Seja $\\hat\\beta_1 = 257.27$, significa que um aumento de 1%, em média, nas despesas totais leva a um aumento de cerca de 2.57 rupias nas despesas com alimentos das 55 famílias incluídas na amostra."
      ]
    },
    {
      "cell_type": "code",
      "execution_count": null,
      "metadata": {
        "id": "S9ZB6OdNenXq"
      },
      "outputs": [],
      "source": []
    }
  ],
  "metadata": {
    "language_info": {
      "name": "R"
    },
    "colab": {
      "provenance": [],
      "include_colab_link": true
    },
    "kernelspec": {
      "name": "ir",
      "display_name": "R"
    }
  },
  "nbformat": 4,
  "nbformat_minor": 0
}