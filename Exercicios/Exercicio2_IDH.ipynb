{
  "nbformat": 4,
  "nbformat_minor": 0,
  "metadata": {
    "colab": {
      "provenance": [],
      "authorship_tag": "ABX9TyOCmtUuHlvS/MWMA1u4lka6",
      "include_colab_link": true
    },
    "kernelspec": {
      "name": "ir",
      "display_name": "R"
    },
    "language_info": {
      "name": "R"
    }
  },
  "cells": [
    {
      "cell_type": "markdown",
      "metadata": {
        "id": "view-in-github",
        "colab_type": "text"
      },
      "source": [
        "<a href=\"https://colab.research.google.com/github/pedroallmeiida/econometria/blob/main/Exercicios/Exercicio2_IDH.ipynb\" target=\"_parent\"><img src=\"https://colab.research.google.com/assets/colab-badge.svg\" alt=\"Open In Colab\"/></a>"
      ]
    },
    {
      "cell_type": "code",
      "execution_count": 1,
      "metadata": {
        "id": "kn11p8a4z-Mo"
      },
      "outputs": [],
      "source": [
        "library(readr)"
      ]
    },
    {
      "cell_type": "code",
      "source": [
        "## Leitura dos dados\n",
        "url <- \"https://raw.githubusercontent.com/pedroallmeiida/econometria/refs/heads/main/Dados/idh.csv\"\n",
        "dados_idh <- readr::read_csv(url)\n",
        "head(dados_idh)\n"
      ],
      "metadata": {
        "colab": {
          "base_uri": "https://localhost:8080/",
          "height": 428
        },
        "id": "VU5eWeQZ1Hly",
        "outputId": "33552077-a5b5-4090-fc58-5703aa637383"
      },
      "execution_count": 2,
      "outputs": [
        {
          "output_type": "stream",
          "name": "stderr",
          "text": [
            "\u001b[1mRows: \u001b[22m\u001b[34m32\u001b[39m \u001b[1mColumns: \u001b[22m\u001b[34m16\u001b[39m\n",
            "\u001b[36m──\u001b[39m \u001b[1mColumn specification\u001b[22m \u001b[36m────────────────────────────────────────────────────────\u001b[39m\n",
            "\u001b[1mDelimiter:\u001b[22m \",\"\n",
            "\u001b[32mdbl\u001b[39m (16): ano_referencia, idh, idh_feminino, idh_masculino, expectativa_de_v...\n",
            "\n",
            "\u001b[36mℹ\u001b[39m Use `spec()` to retrieve the full column specification for this data.\n",
            "\u001b[36mℹ\u001b[39m Specify the column types or set `show_col_types = FALSE` to quiet this message.\n"
          ]
        },
        {
          "output_type": "display_data",
          "data": {
            "text/html": [
              "<table class=\"dataframe\">\n",
              "<caption>A tibble: 6 × 16</caption>\n",
              "<thead>\n",
              "\t<tr><th scope=col>ano_referencia</th><th scope=col>idh</th><th scope=col>idh_feminino</th><th scope=col>idh_masculino</th><th scope=col>expectativa_de_vida</th><th scope=col>expectativa_de_vida_feminina</th><th scope=col>expectativa_de_vida_masculina</th><th scope=col>expectativa_de_anos_escola</th><th scope=col>expectativa_de_anos_escola_feminina</th><th scope=col>expectativa_de_anos_escola_masculina</th><th scope=col>media_de_anos_escola</th><th scope=col>media_de_anos_escola_feminina</th><th scope=col>media_de_anos_escola_masculina</th><th scope=col>taxa_mortalidade_materna</th><th scope=col>emissao_toneladas_co2_per_capta</th><th scope=col>material_footprint_toneladas_per_capta</th></tr>\n",
              "\t<tr><th scope=col>&lt;dbl&gt;</th><th scope=col>&lt;dbl&gt;</th><th scope=col>&lt;dbl&gt;</th><th scope=col>&lt;dbl&gt;</th><th scope=col>&lt;dbl&gt;</th><th scope=col>&lt;dbl&gt;</th><th scope=col>&lt;dbl&gt;</th><th scope=col>&lt;dbl&gt;</th><th scope=col>&lt;dbl&gt;</th><th scope=col>&lt;dbl&gt;</th><th scope=col>&lt;dbl&gt;</th><th scope=col>&lt;dbl&gt;</th><th scope=col>&lt;dbl&gt;</th><th scope=col>&lt;dbl&gt;</th><th scope=col>&lt;dbl&gt;</th><th scope=col>&lt;dbl&gt;</th></tr>\n",
              "</thead>\n",
              "<tbody>\n",
              "\t<tr><td>1991</td><td>0.624</td><td>0</td><td>0</td><td>66.31</td><td>69.33</td><td>63.44</td><td>12.97</td><td>0</td><td>0</td><td>3.83</td><td>3.96</td><td>3.67</td><td>175.61</td><td>1.50</td><td>12.29</td></tr>\n",
              "\t<tr><td>1992</td><td>0.627</td><td>0</td><td>0</td><td>66.71</td><td>69.78</td><td>63.80</td><td>13.02</td><td>0</td><td>0</td><td>3.98</td><td>4.12</td><td>3.81</td><td>169.71</td><td>1.50</td><td>11.89</td></tr>\n",
              "\t<tr><td>1993</td><td>0.633</td><td>0</td><td>0</td><td>67.11</td><td>70.18</td><td>64.19</td><td>13.06</td><td>0</td><td>0</td><td>4.12</td><td>4.28</td><td>3.95</td><td>158.89</td><td>1.54</td><td>11.28</td></tr>\n",
              "\t<tr><td>1994</td><td>0.638</td><td>0</td><td>0</td><td>67.57</td><td>70.65</td><td>64.64</td><td>13.11</td><td>0</td><td>0</td><td>4.27</td><td>4.45</td><td>4.09</td><td>146.64</td><td>1.58</td><td>12.14</td></tr>\n",
              "\t<tr><td>1995</td><td>0.645</td><td>0</td><td>0</td><td>67.92</td><td>71.09</td><td>64.91</td><td>13.15</td><td>0</td><td>0</td><td>4.42</td><td>4.61</td><td>4.23</td><td>121.07</td><td>1.64</td><td>12.64</td></tr>\n",
              "\t<tr><td>1996</td><td>0.650</td><td>0</td><td>0</td><td>68.41</td><td>71.59</td><td>65.38</td><td>13.20</td><td>0</td><td>0</td><td>4.59</td><td>4.77</td><td>4.40</td><td>110.07</td><td>1.74</td><td>13.08</td></tr>\n",
              "</tbody>\n",
              "</table>\n"
            ],
            "text/markdown": "\nA tibble: 6 × 16\n\n| ano_referencia &lt;dbl&gt; | idh &lt;dbl&gt; | idh_feminino &lt;dbl&gt; | idh_masculino &lt;dbl&gt; | expectativa_de_vida &lt;dbl&gt; | expectativa_de_vida_feminina &lt;dbl&gt; | expectativa_de_vida_masculina &lt;dbl&gt; | expectativa_de_anos_escola &lt;dbl&gt; | expectativa_de_anos_escola_feminina &lt;dbl&gt; | expectativa_de_anos_escola_masculina &lt;dbl&gt; | media_de_anos_escola &lt;dbl&gt; | media_de_anos_escola_feminina &lt;dbl&gt; | media_de_anos_escola_masculina &lt;dbl&gt; | taxa_mortalidade_materna &lt;dbl&gt; | emissao_toneladas_co2_per_capta &lt;dbl&gt; | material_footprint_toneladas_per_capta &lt;dbl&gt; |\n|---|---|---|---|---|---|---|---|---|---|---|---|---|---|---|---|\n| 1991 | 0.624 | 0 | 0 | 66.31 | 69.33 | 63.44 | 12.97 | 0 | 0 | 3.83 | 3.96 | 3.67 | 175.61 | 1.50 | 12.29 |\n| 1992 | 0.627 | 0 | 0 | 66.71 | 69.78 | 63.80 | 13.02 | 0 | 0 | 3.98 | 4.12 | 3.81 | 169.71 | 1.50 | 11.89 |\n| 1993 | 0.633 | 0 | 0 | 67.11 | 70.18 | 64.19 | 13.06 | 0 | 0 | 4.12 | 4.28 | 3.95 | 158.89 | 1.54 | 11.28 |\n| 1994 | 0.638 | 0 | 0 | 67.57 | 70.65 | 64.64 | 13.11 | 0 | 0 | 4.27 | 4.45 | 4.09 | 146.64 | 1.58 | 12.14 |\n| 1995 | 0.645 | 0 | 0 | 67.92 | 71.09 | 64.91 | 13.15 | 0 | 0 | 4.42 | 4.61 | 4.23 | 121.07 | 1.64 | 12.64 |\n| 1996 | 0.650 | 0 | 0 | 68.41 | 71.59 | 65.38 | 13.20 | 0 | 0 | 4.59 | 4.77 | 4.40 | 110.07 | 1.74 | 13.08 |\n\n",
            "text/latex": "A tibble: 6 × 16\n\\begin{tabular}{llllllllllllllll}\n ano\\_referencia & idh & idh\\_feminino & idh\\_masculino & expectativa\\_de\\_vida & expectativa\\_de\\_vida\\_feminina & expectativa\\_de\\_vida\\_masculina & expectativa\\_de\\_anos\\_escola & expectativa\\_de\\_anos\\_escola\\_feminina & expectativa\\_de\\_anos\\_escola\\_masculina & media\\_de\\_anos\\_escola & media\\_de\\_anos\\_escola\\_feminina & media\\_de\\_anos\\_escola\\_masculina & taxa\\_mortalidade\\_materna & emissao\\_toneladas\\_co2\\_per\\_capta & material\\_footprint\\_toneladas\\_per\\_capta\\\\\n <dbl> & <dbl> & <dbl> & <dbl> & <dbl> & <dbl> & <dbl> & <dbl> & <dbl> & <dbl> & <dbl> & <dbl> & <dbl> & <dbl> & <dbl> & <dbl>\\\\\n\\hline\n\t 1991 & 0.624 & 0 & 0 & 66.31 & 69.33 & 63.44 & 12.97 & 0 & 0 & 3.83 & 3.96 & 3.67 & 175.61 & 1.50 & 12.29\\\\\n\t 1992 & 0.627 & 0 & 0 & 66.71 & 69.78 & 63.80 & 13.02 & 0 & 0 & 3.98 & 4.12 & 3.81 & 169.71 & 1.50 & 11.89\\\\\n\t 1993 & 0.633 & 0 & 0 & 67.11 & 70.18 & 64.19 & 13.06 & 0 & 0 & 4.12 & 4.28 & 3.95 & 158.89 & 1.54 & 11.28\\\\\n\t 1994 & 0.638 & 0 & 0 & 67.57 & 70.65 & 64.64 & 13.11 & 0 & 0 & 4.27 & 4.45 & 4.09 & 146.64 & 1.58 & 12.14\\\\\n\t 1995 & 0.645 & 0 & 0 & 67.92 & 71.09 & 64.91 & 13.15 & 0 & 0 & 4.42 & 4.61 & 4.23 & 121.07 & 1.64 & 12.64\\\\\n\t 1996 & 0.650 & 0 & 0 & 68.41 & 71.59 & 65.38 & 13.20 & 0 & 0 & 4.59 & 4.77 & 4.40 & 110.07 & 1.74 & 13.08\\\\\n\\end{tabular}\n",
            "text/plain": [
              "  ano_referencia idh   idh_feminino idh_masculino expectativa_de_vida\n",
              "1 1991           0.624 0            0             66.31              \n",
              "2 1992           0.627 0            0             66.71              \n",
              "3 1993           0.633 0            0             67.11              \n",
              "4 1994           0.638 0            0             67.57              \n",
              "5 1995           0.645 0            0             67.92              \n",
              "6 1996           0.650 0            0             68.41              \n",
              "  expectativa_de_vida_feminina expectativa_de_vida_masculina\n",
              "1 69.33                        63.44                        \n",
              "2 69.78                        63.80                        \n",
              "3 70.18                        64.19                        \n",
              "4 70.65                        64.64                        \n",
              "5 71.09                        64.91                        \n",
              "6 71.59                        65.38                        \n",
              "  expectativa_de_anos_escola expectativa_de_anos_escola_feminina\n",
              "1 12.97                      0                                  \n",
              "2 13.02                      0                                  \n",
              "3 13.06                      0                                  \n",
              "4 13.11                      0                                  \n",
              "5 13.15                      0                                  \n",
              "6 13.20                      0                                  \n",
              "  expectativa_de_anos_escola_masculina media_de_anos_escola\n",
              "1 0                                    3.83                \n",
              "2 0                                    3.98                \n",
              "3 0                                    4.12                \n",
              "4 0                                    4.27                \n",
              "5 0                                    4.42                \n",
              "6 0                                    4.59                \n",
              "  media_de_anos_escola_feminina media_de_anos_escola_masculina\n",
              "1 3.96                          3.67                          \n",
              "2 4.12                          3.81                          \n",
              "3 4.28                          3.95                          \n",
              "4 4.45                          4.09                          \n",
              "5 4.61                          4.23                          \n",
              "6 4.77                          4.40                          \n",
              "  taxa_mortalidade_materna emissao_toneladas_co2_per_capta\n",
              "1 175.61                   1.50                           \n",
              "2 169.71                   1.50                           \n",
              "3 158.89                   1.54                           \n",
              "4 146.64                   1.58                           \n",
              "5 121.07                   1.64                           \n",
              "6 110.07                   1.74                           \n",
              "  material_footprint_toneladas_per_capta\n",
              "1 12.29                                 \n",
              "2 11.89                                 \n",
              "3 11.28                                 \n",
              "4 12.14                                 \n",
              "5 12.64                                 \n",
              "6 13.08                                 "
            ]
          },
          "metadata": {}
        }
      ]
    },
    {
      "cell_type": "markdown",
      "source": [
        "Questão 1: Fazer um estudo descritivo das variáveis"
      ],
      "metadata": {
        "id": "z6Zd12CQ1smp"
      }
    },
    {
      "cell_type": "code",
      "source": [],
      "metadata": {
        "id": "fJPjJ9Fr1o02"
      },
      "execution_count": null,
      "outputs": []
    },
    {
      "cell_type": "markdown",
      "source": [
        "Questão 2: Considere a variável resposta como sendo o idh. Estudo o efeito das outras variáveis com ela."
      ],
      "metadata": {
        "id": "Y5y56v0x1ysJ"
      }
    },
    {
      "cell_type": "code",
      "source": [],
      "metadata": {
        "id": "6ZivjOAR2Aow"
      },
      "execution_count": null,
      "outputs": []
    },
    {
      "cell_type": "markdown",
      "source": [
        "Questão 3: Estude a **elasticidade** do idh em relação as variáveis:  expectativa_de_vida,  expectativa_de_anos_escola, media_de_anos_escola, taxa_mortalidade_materna, emissao_toneladas_co2_per_capta e material_footprint_toneladas_per_capta"
      ],
      "metadata": {
        "id": "-I5mLN5b2Cxa"
      }
    },
    {
      "cell_type": "code",
      "source": [],
      "metadata": {
        "id": "DQ2rpAM22B3y"
      },
      "execution_count": null,
      "outputs": []
    },
    {
      "cell_type": "markdown",
      "source": [
        "Questão 4: Aplique um modelo log-lin para a variável resposta idh em relação as variáveis: expectativa_de_vida, expectativa_de_anos_escola, media_de_anos_escola, taxa_mortalidade_materna, emissao_toneladas_co2_per_capta e material_footprint_toneladas_per_capta"
      ],
      "metadata": {
        "id": "g_EBYGAz2iFk"
      }
    },
    {
      "cell_type": "code",
      "source": [],
      "metadata": {
        "id": "jrTBVh1d2B1R"
      },
      "execution_count": null,
      "outputs": []
    },
    {
      "cell_type": "markdown",
      "source": [
        "Questão 5: Aplique um modelo lin-log para a variável resposta idh em relação as variáveis: expectativa_de_vida, expectativa_de_anos_escola, media_de_anos_escola, taxa_mortalidade_materna, emissao_toneladas_co2_per_capta e material_footprint_toneladas_per_capta"
      ],
      "metadata": {
        "id": "G0cl4iQA25x3"
      }
    },
    {
      "cell_type": "code",
      "source": [],
      "metadata": {
        "id": "uiMJp-0H2Byx"
      },
      "execution_count": null,
      "outputs": []
    },
    {
      "cell_type": "markdown",
      "source": [
        "Questão 6: Estude a taxa de crescimento anual do idh\n",
        "\n",
        "---\n"
      ],
      "metadata": {
        "id": "YUeXa6Aw29q4"
      }
    },
    {
      "cell_type": "code",
      "source": [],
      "metadata": {
        "id": "FKEWQ9_s3Xqf"
      },
      "execution_count": null,
      "outputs": []
    },
    {
      "cell_type": "markdown",
      "source": [
        "Questão 7: Estude a taxa de crescimento anual da variável material_footprint_toneladas_per_capta\n"
      ],
      "metadata": {
        "id": "665n1NKj3OXf"
      }
    },
    {
      "cell_type": "code",
      "source": [],
      "metadata": {
        "id": "9yARaSjA2Bwf"
      },
      "execution_count": null,
      "outputs": []
    },
    {
      "cell_type": "markdown",
      "source": [],
      "metadata": {
        "id": "zBpGDxxS2Bcj"
      }
    }
  ]
}