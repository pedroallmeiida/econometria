{
  "nbformat": 4,
  "nbformat_minor": 0,
  "metadata": {
    "colab": {
      "provenance": [],
      "authorship_tag": "ABX9TyOnww6kAPi/gcTwu4jxKyrr",
      "include_colab_link": true
    },
    "kernelspec": {
      "name": "ir",
      "display_name": "R"
    },
    "language_info": {
      "name": "R"
    }
  },
  "cells": [
    {
      "cell_type": "markdown",
      "metadata": {
        "id": "view-in-github",
        "colab_type": "text"
      },
      "source": [
        "<a href=\"https://colab.research.google.com/github/pedroallmeiida/econometria/blob/main/Exercicios/Exercicio1_wage.ipynb\" target=\"_parent\"><img src=\"https://colab.research.google.com/assets/colab-badge.svg\" alt=\"Open In Colab\"/></a>"
      ]
    },
    {
      "cell_type": "code",
      "execution_count": 2,
      "metadata": {
        "id": "U4jfutJavcaU",
        "outputId": "5bc8fa12-6cbe-4877-b175-68f9b41684e7",
        "colab": {
          "base_uri": "https://localhost:8080/"
        }
      },
      "outputs": [
        {
          "output_type": "stream",
          "name": "stderr",
          "text": [
            "Installing package into ‘/usr/local/lib/R/site-library’\n",
            "(as ‘lib’ is unspecified)\n",
            "\n"
          ]
        }
      ],
      "source": [
        "## Instalando a bliblioteca\n",
        "#install.packages(\"wooldridge\")\n",
        "\n",
        "# carrega a biblioteca\n",
        "library(wooldridge)\n",
        "\n",
        "\n"
      ]
    },
    {
      "cell_type": "markdown",
      "source": [
        "## Estudo das variáveis\n",
        "\n",
        "Antes de rodar um modelo, estude o comportamento das variáveis!"
      ],
      "metadata": {
        "id": "i7I9cZKxxKpu"
      }
    },
    {
      "cell_type": "markdown",
      "source": [
        "# Aplicando as diferentes formas do modelo de regressão Linear"
      ],
      "metadata": {
        "id": "WZQV6rJ7xT-A"
      }
    },
    {
      "cell_type": "markdown",
      "source": [
        "## 1: Modelo de regressão linear simples\n",
        "\n",
        "Construa um modelo de regressão linear e interprete os resultados, use as variáveis: educ, exper e tenure."
      ],
      "metadata": {
        "id": "ZwosNn4evmZv"
      }
    },
    {
      "cell_type": "code",
      "source": [
        "wageModel <- lm(wage ~ educ + exper + tenure, data = wage1)\n",
        "summary(wageModel)"
      ],
      "metadata": {
        "id": "wJxanygHvgfv",
        "outputId": "f3e1c3de-734c-4ddd-cf31-1b0db340d5f5",
        "colab": {
          "base_uri": "https://localhost:8080/",
          "height": 364
        }
      },
      "execution_count": 4,
      "outputs": [
        {
          "output_type": "display_data",
          "data": {
            "text/plain": [
              "\n",
              "Call:\n",
              "lm(formula = wage ~ educ + exper + tenure, data = wage1)\n",
              "\n",
              "Residuals:\n",
              "    Min      1Q  Median      3Q     Max \n",
              "-7.6068 -1.7747 -0.6279  1.1969 14.6536 \n",
              "\n",
              "Coefficients:\n",
              "            Estimate Std. Error t value Pr(>|t|)    \n",
              "(Intercept) -2.87273    0.72896  -3.941 9.22e-05 ***\n",
              "educ         0.59897    0.05128  11.679  < 2e-16 ***\n",
              "exper        0.02234    0.01206   1.853   0.0645 .  \n",
              "tenure       0.16927    0.02164   7.820 2.93e-14 ***\n",
              "---\n",
              "Signif. codes:  0 ‘***’ 0.001 ‘**’ 0.01 ‘*’ 0.05 ‘.’ 0.1 ‘ ’ 1\n",
              "\n",
              "Residual standard error: 3.084 on 522 degrees of freedom\n",
              "Multiple R-squared:  0.3064,\tAdjusted R-squared:  0.3024 \n",
              "F-statistic: 76.87 on 3 and 522 DF,  p-value: < 2.2e-16\n"
            ]
          },
          "metadata": {}
        }
      ]
    },
    {
      "cell_type": "markdown",
      "source": [],
      "metadata": {
        "id": "wk5KC1iva5BP"
      }
    },
    {
      "cell_type": "markdown",
      "source": [
        "## 2: Modelo de regressão log-log\n",
        "\n",
        "Construa um modelo de regressão linear log-log e interprete os resultados, use as variáveis: educ, exper e tenure."
      ],
      "metadata": {
        "id": "Gbom9rS5wBkX"
      }
    },
    {
      "cell_type": "code",
      "source": [
        "wageModel <- lm( wage ~ educ  + exper + tenure, data = wage1)\n",
        "summary(wageModel)"
      ],
      "metadata": {
        "id": "ymEuzaapvgdC",
        "outputId": "d160530c-2555-496b-b2e5-f2b01bc0e584",
        "colab": {
          "base_uri": "https://localhost:8080/",
          "height": 364
        }
      },
      "execution_count": 5,
      "outputs": [
        {
          "output_type": "display_data",
          "data": {
            "text/plain": [
              "\n",
              "Call:\n",
              "lm(formula = lwage ~ educ + exper + tenure, data = wage1)\n",
              "\n",
              "Residuals:\n",
              "     Min       1Q   Median       3Q      Max \n",
              "-2.05802 -0.29645 -0.03265  0.28788  1.42809 \n",
              "\n",
              "Coefficients:\n",
              "            Estimate Std. Error t value Pr(>|t|)    \n",
              "(Intercept) 0.284360   0.104190   2.729  0.00656 ** \n",
              "educ        0.092029   0.007330  12.555  < 2e-16 ***\n",
              "exper       0.004121   0.001723   2.391  0.01714 *  \n",
              "tenure      0.022067   0.003094   7.133 3.29e-12 ***\n",
              "---\n",
              "Signif. codes:  0 ‘***’ 0.001 ‘**’ 0.01 ‘*’ 0.05 ‘.’ 0.1 ‘ ’ 1\n",
              "\n",
              "Residual standard error: 0.4409 on 522 degrees of freedom\n",
              "Multiple R-squared:  0.316,\tAdjusted R-squared:  0.3121 \n",
              "F-statistic: 80.39 on 3 and 522 DF,  p-value: < 2.2e-16\n"
            ]
          },
          "metadata": {}
        }
      ]
    },
    {
      "cell_type": "markdown",
      "source": [
        "## 3: Modelo de regressão log-lin\n",
        "\n",
        "Construa um modelo de regressão linear log-lin e interprete os resultados, use as variáveis: educ, exper e tenure.\n",
        "\n",
        "---\n",
        "\n"
      ],
      "metadata": {
        "id": "tsm1S9d8wT3_"
      }
    },
    {
      "cell_type": "code",
      "source": [
        "\n",
        "wageModel <- lm( wage ~ educ  + exper + tenure, data = wage1)\n",
        "summary(wageModel)"
      ],
      "metadata": {
        "id": "v87f66XivgaY"
      },
      "execution_count": null,
      "outputs": []
    },
    {
      "cell_type": "markdown",
      "source": [
        "## 4: Modelo de regressão lin-log\n",
        "\n",
        "Construa um modelo de regressão linear lin-log e interprete os resultados, use as variáveis: educ, exper e tenure."
      ],
      "metadata": {
        "id": "1SzhEiuew6MK"
      }
    },
    {
      "cell_type": "code",
      "source": [
        "wageModel <- lm( wage ~ educ  + exper + tenure, data = wage1)\n",
        "summary(wageModel)"
      ],
      "metadata": {
        "id": "K7e-GYV-w28k"
      },
      "execution_count": null,
      "outputs": []
    }
  ]
}