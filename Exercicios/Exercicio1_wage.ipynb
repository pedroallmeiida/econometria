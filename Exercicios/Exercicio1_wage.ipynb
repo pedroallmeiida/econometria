{
  "nbformat": 4,
  "nbformat_minor": 0,
  "metadata": {
    "colab": {
      "provenance": [],
      "authorship_tag": "ABX9TyNMYMEQ1BFeDs1UTxxfUKcW",
      "include_colab_link": true
    },
    "kernelspec": {
      "name": "python3",
      "display_name": "Python 3"
    },
    "language_info": {
      "name": "python"
    }
  },
  "cells": [
    {
      "cell_type": "markdown",
      "metadata": {
        "id": "view-in-github",
        "colab_type": "text"
      },
      "source": [
        "<a href=\"https://colab.research.google.com/github/pedroallmeiida/econometria/blob/main/Exercicios/Exercicio1_wage.ipynb\" target=\"_parent\"><img src=\"https://colab.research.google.com/assets/colab-badge.svg\" alt=\"Open In Colab\"/></a>"
      ]
    },
    {
      "cell_type": "code",
      "execution_count": null,
      "metadata": {
        "id": "U4jfutJavcaU"
      },
      "outputs": [],
      "source": [
        "## Instalando a bliblioteca\n",
        "#install.packages(\"wooldridge\")\n",
        "\n",
        "# carrega a biblioteca\n",
        "library(wooldridge)\n",
        "\n",
        "\n"
      ]
    },
    {
      "cell_type": "markdown",
      "source": [
        "## Estudo das variáveis\n",
        "\n",
        "Antes de rodar um modelo, estude o comportamento das variáveis!"
      ],
      "metadata": {
        "id": "i7I9cZKxxKpu"
      }
    },
    {
      "cell_type": "markdown",
      "source": [
        "# Aplicando as diferentes formas do modelo de regressão Linear"
      ],
      "metadata": {
        "id": "WZQV6rJ7xT-A"
      }
    },
    {
      "cell_type": "markdown",
      "source": [
        "## 1: Modelo de regressão linear simples\n",
        "\n",
        "Construa um modelo de regressão linear e interprete os resultados, use as variáveis: educ, exper e tenure."
      ],
      "metadata": {
        "id": "ZwosNn4evmZv"
      }
    },
    {
      "cell_type": "code",
      "source": [
        "wageModel <- lm(wage ~ educ + exper + tenure, data = wage1)\n",
        "summary(wageModel)"
      ],
      "metadata": {
        "id": "wJxanygHvgfv"
      },
      "execution_count": null,
      "outputs": []
    },
    {
      "cell_type": "markdown",
      "source": [
        "## 2: Modelo de regressão log-log\n",
        "\n",
        "Construa um modelo de regressão linear log-log e interprete os resultados, use as variáveis: educ, exper e tenure."
      ],
      "metadata": {
        "id": "Gbom9rS5wBkX"
      }
    },
    {
      "cell_type": "code",
      "source": [
        "wageModel <- lm( lwage ~ educ  + exper + tenure, data = wage1)\n",
        "summary(wageModel)"
      ],
      "metadata": {
        "id": "ymEuzaapvgdC"
      },
      "execution_count": null,
      "outputs": []
    },
    {
      "cell_type": "markdown",
      "source": [
        "## 3: Modelo de regressão log-lin\n",
        "\n",
        "Construa um modelo de regressão linear log-lin e interprete os resultados, use as variáveis: educ, exper e tenure.\n",
        "\n",
        "---\n",
        "\n"
      ],
      "metadata": {
        "id": "tsm1S9d8wT3_"
      }
    },
    {
      "cell_type": "code",
      "source": [
        "\n",
        "wageModel <- lm( lwage ~ educ  + exper + tenure, data = wage1)\n",
        "summary(wageModel)"
      ],
      "metadata": {
        "id": "v87f66XivgaY"
      },
      "execution_count": null,
      "outputs": []
    },
    {
      "cell_type": "markdown",
      "source": [
        "## 4: Modelo de regressão lin-log\n",
        "\n",
        "Construa um modelo de regressão linear lin-log e interprete os resultados, use as variáveis: educ, exper e tenure."
      ],
      "metadata": {
        "id": "1SzhEiuew6MK"
      }
    },
    {
      "cell_type": "code",
      "source": [
        "wageModel <- lm( lwage ~ educ  + exper + tenure, data = wage1)\n",
        "summary(wageModel)"
      ],
      "metadata": {
        "id": "K7e-GYV-w28k"
      },
      "execution_count": null,
      "outputs": []
    }
  ]
}